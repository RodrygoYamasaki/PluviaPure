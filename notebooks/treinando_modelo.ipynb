{
 "cells": [
  {
   "cell_type": "code",
   "execution_count": null,
   "id": "af41ec58",
   "metadata": {
    "vscode": {
     "languageId": "plaintext"
    }
   },
   "outputs": [],
   "source": [
    "import pandas as pd\n",
    "from sklearn.model_selection import train_test_split\n",
    "from sklearn.ensemble import RandomForestRegressor\n",
    "from sklearn.metrics import mean_squared_error, r2_score\n",
    "import matplotlib.pyplot as plt\n",
    "import joblib"
   ]
  },
  {
   "cell_type": "markdown",
   "id": "491a3ff4",
   "metadata": {},
   "source": [
    "# 1. Carregar os dados"
   ]
  },
  {
   "cell_type": "code",
   "execution_count": null,
   "id": "8119926e",
   "metadata": {
    "vscode": {
     "languageId": "plaintext"
    }
   },
   "outputs": [],
   "source": [
    "df = pd.read_csv('../data/Dados_Limpos.csv', sep=';')"
   ]
  },
  {
   "cell_type": "markdown",
   "id": "d7c6eb93",
   "metadata": {},
   "source": [
    "# 2. Separar variáveis preditoras e variável alvo"
   ]
  },
  {
   "cell_type": "code",
   "execution_count": null,
   "id": "2736faaf",
   "metadata": {
    "vscode": {
     "languageId": "plaintext"
    }
   },
   "outputs": [],
   "source": [
    "X = df[['Temperatura', 'Umidade', 'Pressao', 'Velocidade_Vento']]\n",
    "y = df['Producao_Agua']"
   ]
  },
  {
   "cell_type": "markdown",
   "id": "1f9d3deb",
   "metadata": {},
   "source": [
    "# 3. Dividir em treino e teste"
   ]
  },
  {
   "cell_type": "code",
   "execution_count": null,
   "id": "dc73adcf",
   "metadata": {
    "vscode": {
     "languageId": "plaintext"
    }
   },
   "outputs": [],
   "source": [
    "X_train, X_test, y_train, y_test = train_test_split(X, y, test_size=0.2, random_state=42)"
   ]
  },
  {
   "cell_type": "markdown",
   "id": "b71bda56",
   "metadata": {},
   "source": [
    "# 4. Treinar o modelo"
   ]
  },
  {
   "cell_type": "code",
   "execution_count": null,
   "id": "46bf3df5",
   "metadata": {
    "vscode": {
     "languageId": "plaintext"
    }
   },
   "outputs": [],
   "source": [
    "modelo = RandomForestRegressor(n_estimators=100, random_state=42)\n",
    "modelo.fit(X_train, y_train)"
   ]
  },
  {
   "cell_type": "markdown",
   "id": "c07ebb77",
   "metadata": {},
   "source": [
    "# 5. Visualizar importância das variáveis "
   ]
  },
  {
   "cell_type": "code",
   "execution_count": null,
   "id": "c940f112",
   "metadata": {
    "vscode": {
     "languageId": "plaintext"
    }
   },
   "outputs": [],
   "source": [
    "importances = modelo.feature_importances_\n",
    "plt.bar(X.columns, importances)\n",
    "plt.title(\"Importância das Variáveis\")\n",
    "plt.ylabel(\"Importância\")\n",
    "plt.show()"
   ]
  },
  {
   "cell_type": "markdown",
   "id": "9932b334",
   "metadata": {},
   "source": [
    "# 6. Salvar o modelo treinado"
   ]
  },
  {
   "cell_type": "code",
   "execution_count": null,
   "id": "55c42e56",
   "metadata": {
    "vscode": {
     "languageId": "plaintext"
    }
   },
   "outputs": [],
   "source": [
    "joblib.dump(modelo, '../modelo_treinado.pkl')\n",
    "print(\"Modelo salvo como 'modelo_treinado.pkl'\")"
   ]
  }
 ],
 "metadata": {
  "language_info": {
   "name": "python"
  }
 },
 "nbformat": 4,
 "nbformat_minor": 5
}
